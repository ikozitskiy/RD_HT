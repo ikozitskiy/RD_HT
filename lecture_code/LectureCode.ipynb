{
 "cells": [
  {
   "cell_type": "markdown",
   "id": "8e7a5b07",
   "metadata": {},
   "source": [
    "# Typing\n"
   ]
  },
  {
   "cell_type": "code",
   "execution_count": null,
   "id": "232c9da1",
   "metadata": {
    "is_executing": true
   },
   "outputs": [],
   "source": [
    "from typing import List\n",
    "\n",
    "def max_in_lists(*l: List[int]) -> int:\n",
    "    flat = [x for li in l for x in li]\n",
    "    print(flat)\n",
    "    return max(flat)\n",
    "\n",
    "max_in_lists([1,2,3], [-1, 120, 91], [148, 98, 15])"
   ]
  },
  {
   "cell_type": "markdown",
   "id": "edcc706a",
   "metadata": {},
   "source": [
    "# Requests"
   ]
  },
  {
   "cell_type": "code",
   "execution_count": 85,
   "id": "b9fd493f",
   "metadata": {
    "ExecuteTime": {
     "end_time": "2023-06-01T16:00:48.061540Z",
     "start_time": "2023-06-01T16:00:47.795919Z"
    }
   },
   "outputs": [],
   "source": [
    "import requests\n",
    "\n",
    "response = requests.get(\n",
    "    url='https://fake-api-vycpfa6oca-uc.a.run.app/sales',\n",
    "    params={'date': '2022-08-09', 'page': '1'},\n",
    "    headers={'Authorization': '2b8d97ce57d401abd89f45b0079d8790edd940e6'}\n",
    ")"
   ]
  },
  {
   "cell_type": "code",
   "execution_count": 86,
   "id": "8969e330",
   "metadata": {
    "ExecuteTime": {
     "end_time": "2023-06-01T16:00:48.498986Z",
     "start_time": "2023-06-01T16:00:48.495309Z"
    }
   },
   "outputs": [
    {
     "data": {
      "text/plain": [
       "200"
      ]
     },
     "execution_count": 86,
     "metadata": {},
     "output_type": "execute_result"
    }
   ],
   "source": [
    "response.status_code"
   ]
  },
  {
   "cell_type": "code",
   "execution_count": 89,
   "id": "9cf221f9",
   "metadata": {
    "ExecuteTime": {
     "end_time": "2023-06-01T16:02:43.293227Z",
     "start_time": "2023-06-01T16:02:43.290546Z"
    }
   },
   "outputs": [],
   "source": [
    "res =response.json()"
   ]
  },
  {
   "cell_type": "code",
   "execution_count": 92,
   "id": "6689a682",
   "metadata": {
    "ExecuteTime": {
     "end_time": "2023-06-01T16:03:16.162615Z",
     "start_time": "2023-06-01T16:03:16.156109Z"
    }
   },
   "outputs": [],
   "source": [
    "import pandas as pd\n",
    "import matplotlib"
   ]
  },
  {
   "cell_type": "code",
   "execution_count": 90,
   "id": "5dd82137",
   "metadata": {
    "ExecuteTime": {
     "end_time": "2023-06-01T16:02:47.160826Z",
     "start_time": "2023-06-01T16:02:47.154076Z"
    }
   },
   "outputs": [],
   "source": [
    "df = pd.DataFrame(res)"
   ]
  },
  {
   "cell_type": "code",
   "execution_count": 91,
   "id": "f0003675",
   "metadata": {
    "ExecuteTime": {
     "end_time": "2023-06-01T16:02:48.832493Z",
     "start_time": "2023-06-01T16:02:48.823636Z"
    }
   },
   "outputs": [
    {
     "data": {
      "text/html": [
       "<div>\n",
       "<style scoped>\n",
       "    .dataframe tbody tr th:only-of-type {\n",
       "        vertical-align: middle;\n",
       "    }\n",
       "\n",
       "    .dataframe tbody tr th {\n",
       "        vertical-align: top;\n",
       "    }\n",
       "\n",
       "    .dataframe thead th {\n",
       "        text-align: right;\n",
       "    }\n",
       "</style>\n",
       "<table border=\"1\" class=\"dataframe\">\n",
       "  <thead>\n",
       "    <tr style=\"text-align: right;\">\n",
       "      <th></th>\n",
       "      <th>client</th>\n",
       "      <th>purchase_date</th>\n",
       "      <th>product</th>\n",
       "      <th>price</th>\n",
       "    </tr>\n",
       "  </thead>\n",
       "  <tbody>\n",
       "    <tr>\n",
       "      <th>0</th>\n",
       "      <td>Michael Wilkerson</td>\n",
       "      <td>2022-08-09</td>\n",
       "      <td>Vacuum cleaner</td>\n",
       "      <td>346</td>\n",
       "    </tr>\n",
       "    <tr>\n",
       "      <th>1</th>\n",
       "      <td>Russell Hill</td>\n",
       "      <td>2022-08-09</td>\n",
       "      <td>Microwave oven</td>\n",
       "      <td>446</td>\n",
       "    </tr>\n",
       "    <tr>\n",
       "      <th>2</th>\n",
       "      <td>Michael Galloway</td>\n",
       "      <td>2022-08-09</td>\n",
       "      <td>Phone</td>\n",
       "      <td>1042</td>\n",
       "    </tr>\n",
       "    <tr>\n",
       "      <th>3</th>\n",
       "      <td>Tom Gonzalez</td>\n",
       "      <td>2022-08-09</td>\n",
       "      <td>TV</td>\n",
       "      <td>2438</td>\n",
       "    </tr>\n",
       "    <tr>\n",
       "      <th>4</th>\n",
       "      <td>Ricky Romero</td>\n",
       "      <td>2022-08-09</td>\n",
       "      <td>Phone</td>\n",
       "      <td>424</td>\n",
       "    </tr>\n",
       "    <tr>\n",
       "      <th>...</th>\n",
       "      <td>...</td>\n",
       "      <td>...</td>\n",
       "      <td>...</td>\n",
       "      <td>...</td>\n",
       "    </tr>\n",
       "    <tr>\n",
       "      <th>95</th>\n",
       "      <td>Alyssa Wilkins</td>\n",
       "      <td>2022-08-09</td>\n",
       "      <td>Phone</td>\n",
       "      <td>523</td>\n",
       "    </tr>\n",
       "    <tr>\n",
       "      <th>96</th>\n",
       "      <td>Kevin Mullen</td>\n",
       "      <td>2022-08-09</td>\n",
       "      <td>Phone</td>\n",
       "      <td>998</td>\n",
       "    </tr>\n",
       "    <tr>\n",
       "      <th>97</th>\n",
       "      <td>Elizabeth Brady</td>\n",
       "      <td>2022-08-09</td>\n",
       "      <td>Microwave oven</td>\n",
       "      <td>394</td>\n",
       "    </tr>\n",
       "    <tr>\n",
       "      <th>98</th>\n",
       "      <td>Kristen Lopez</td>\n",
       "      <td>2022-08-09</td>\n",
       "      <td>Laptop</td>\n",
       "      <td>1164</td>\n",
       "    </tr>\n",
       "    <tr>\n",
       "      <th>99</th>\n",
       "      <td>Ronald King</td>\n",
       "      <td>2022-08-09</td>\n",
       "      <td>coffee machine</td>\n",
       "      <td>1957</td>\n",
       "    </tr>\n",
       "  </tbody>\n",
       "</table>\n",
       "<p>100 rows × 4 columns</p>\n",
       "</div>"
      ],
      "text/plain": [
       "               client purchase_date         product  price\n",
       "0   Michael Wilkerson    2022-08-09  Vacuum cleaner    346\n",
       "1        Russell Hill    2022-08-09  Microwave oven    446\n",
       "2    Michael Galloway    2022-08-09           Phone   1042\n",
       "3        Tom Gonzalez    2022-08-09              TV   2438\n",
       "4        Ricky Romero    2022-08-09           Phone    424\n",
       "..                ...           ...             ...    ...\n",
       "95     Alyssa Wilkins    2022-08-09           Phone    523\n",
       "96       Kevin Mullen    2022-08-09           Phone    998\n",
       "97    Elizabeth Brady    2022-08-09  Microwave oven    394\n",
       "98      Kristen Lopez    2022-08-09          Laptop   1164\n",
       "99        Ronald King    2022-08-09  coffee machine   1957\n",
       "\n",
       "[100 rows x 4 columns]"
      ]
     },
     "execution_count": 91,
     "metadata": {},
     "output_type": "execute_result"
    }
   ],
   "source": [
    "df"
   ]
  },
  {
   "cell_type": "code",
   "execution_count": 93,
   "id": "19eb3ce8",
   "metadata": {
    "ExecuteTime": {
     "end_time": "2023-06-01T16:03:22.164306Z",
     "start_time": "2023-06-01T16:03:21.999522Z"
    }
   },
   "outputs": [
    {
     "data": {
      "text/plain": [
       "<Axes: >"
      ]
     },
     "execution_count": 93,
     "metadata": {},
     "output_type": "execute_result"
    },
    {
     "data": {
      "image/png": "[encoded data removed]",
      "text/plain": [
       "<Figure size 640x480 with 1 Axes>"
      ]
     },
     "metadata": {},
     "output_type": "display_data"
    }
   ],
   "source": [
    "df.plot()"
   ]
  },
  {
   "cell_type": "code",
   "execution_count": 94,
   "id": "92362d87",
   "metadata": {
    "ExecuteTime": {
     "end_time": "2023-06-01T16:04:17.932056Z",
     "start_time": "2023-06-01T16:04:17.828744Z"
    }
   },
   "outputs": [],
   "source": [
    "df.to_csv('./sales.csv')"
   ]
  },
  {
   "cell_type": "code",
   "execution_count": 96,
   "id": "dc4dbe2e",
   "metadata": {
    "ExecuteTime": {
     "end_time": "2023-06-01T16:05:10.068677Z",
     "start_time": "2023-06-01T16:05:10.048758Z"
    }
   },
   "outputs": [
    {
     "data": {
      "text/html": [
       "<div>\n",
       "<style scoped>\n",
       "    .dataframe tbody tr th:only-of-type {\n",
       "        vertical-align: middle;\n",
       "    }\n",
       "\n",
       "    .dataframe tbody tr th {\n",
       "        vertical-align: top;\n",
       "    }\n",
       "\n",
       "    .dataframe thead th {\n",
       "        text-align: right;\n",
       "    }\n",
       "</style>\n",
       "<table border=\"1\" class=\"dataframe\">\n",
       "  <thead>\n",
       "    <tr style=\"text-align: right;\">\n",
       "      <th></th>\n",
       "      <th>client</th>\n",
       "      <th>purchase_date</th>\n",
       "      <th>product</th>\n",
       "      <th>price</th>\n",
       "    </tr>\n",
       "  </thead>\n",
       "  <tbody>\n",
       "    <tr>\n",
       "      <th>2</th>\n",
       "      <td>Michael Galloway</td>\n",
       "      <td>2022-08-09</td>\n",
       "      <td>Phone</td>\n",
       "      <td>1042</td>\n",
       "    </tr>\n",
       "    <tr>\n",
       "      <th>4</th>\n",
       "      <td>Ricky Romero</td>\n",
       "      <td>2022-08-09</td>\n",
       "      <td>Phone</td>\n",
       "      <td>424</td>\n",
       "    </tr>\n",
       "    <tr>\n",
       "      <th>6</th>\n",
       "      <td>Tara King</td>\n",
       "      <td>2022-08-09</td>\n",
       "      <td>Phone</td>\n",
       "      <td>1062</td>\n",
       "    </tr>\n",
       "    <tr>\n",
       "      <th>9</th>\n",
       "      <td>Kristen Walter</td>\n",
       "      <td>2022-08-09</td>\n",
       "      <td>Phone</td>\n",
       "      <td>721</td>\n",
       "    </tr>\n",
       "    <tr>\n",
       "      <th>10</th>\n",
       "      <td>William Hays</td>\n",
       "      <td>2022-08-09</td>\n",
       "      <td>Phone</td>\n",
       "      <td>273</td>\n",
       "    </tr>\n",
       "    <tr>\n",
       "      <th>15</th>\n",
       "      <td>Alicia Morrison</td>\n",
       "      <td>2022-08-09</td>\n",
       "      <td>Phone</td>\n",
       "      <td>651</td>\n",
       "    </tr>\n",
       "    <tr>\n",
       "      <th>18</th>\n",
       "      <td>Sally Rodriguez</td>\n",
       "      <td>2022-08-09</td>\n",
       "      <td>Phone</td>\n",
       "      <td>1470</td>\n",
       "    </tr>\n",
       "    <tr>\n",
       "      <th>20</th>\n",
       "      <td>Kathy Brown</td>\n",
       "      <td>2022-08-09</td>\n",
       "      <td>Phone</td>\n",
       "      <td>206</td>\n",
       "    </tr>\n",
       "    <tr>\n",
       "      <th>23</th>\n",
       "      <td>Ashley Hunter</td>\n",
       "      <td>2022-08-09</td>\n",
       "      <td>Phone</td>\n",
       "      <td>195</td>\n",
       "    </tr>\n",
       "    <tr>\n",
       "      <th>25</th>\n",
       "      <td>Austin Vasquez</td>\n",
       "      <td>2022-08-09</td>\n",
       "      <td>Phone</td>\n",
       "      <td>299</td>\n",
       "    </tr>\n",
       "    <tr>\n",
       "      <th>28</th>\n",
       "      <td>Mary Wong</td>\n",
       "      <td>2022-08-09</td>\n",
       "      <td>Phone</td>\n",
       "      <td>1324</td>\n",
       "    </tr>\n",
       "    <tr>\n",
       "      <th>31</th>\n",
       "      <td>Derek Curtis</td>\n",
       "      <td>2022-08-09</td>\n",
       "      <td>Phone</td>\n",
       "      <td>173</td>\n",
       "    </tr>\n",
       "    <tr>\n",
       "      <th>32</th>\n",
       "      <td>Autumn Thompson</td>\n",
       "      <td>2022-08-09</td>\n",
       "      <td>Phone</td>\n",
       "      <td>1300</td>\n",
       "    </tr>\n",
       "    <tr>\n",
       "      <th>38</th>\n",
       "      <td>Brett Bowen</td>\n",
       "      <td>2022-08-09</td>\n",
       "      <td>Phone</td>\n",
       "      <td>340</td>\n",
       "    </tr>\n",
       "    <tr>\n",
       "      <th>43</th>\n",
       "      <td>Michelle Moore</td>\n",
       "      <td>2022-08-09</td>\n",
       "      <td>Phone</td>\n",
       "      <td>1425</td>\n",
       "    </tr>\n",
       "    <tr>\n",
       "      <th>45</th>\n",
       "      <td>Brian Bell</td>\n",
       "      <td>2022-08-09</td>\n",
       "      <td>Phone</td>\n",
       "      <td>865</td>\n",
       "    </tr>\n",
       "    <tr>\n",
       "      <th>68</th>\n",
       "      <td>Keith Williams</td>\n",
       "      <td>2022-08-09</td>\n",
       "      <td>Phone</td>\n",
       "      <td>367</td>\n",
       "    </tr>\n",
       "    <tr>\n",
       "      <th>70</th>\n",
       "      <td>Melissa Graham</td>\n",
       "      <td>2022-08-09</td>\n",
       "      <td>Phone</td>\n",
       "      <td>1220</td>\n",
       "    </tr>\n",
       "    <tr>\n",
       "      <th>71</th>\n",
       "      <td>Amy Watson</td>\n",
       "      <td>2022-08-09</td>\n",
       "      <td>Phone</td>\n",
       "      <td>1434</td>\n",
       "    </tr>\n",
       "    <tr>\n",
       "      <th>86</th>\n",
       "      <td>Patricia Reyes</td>\n",
       "      <td>2022-08-09</td>\n",
       "      <td>Phone</td>\n",
       "      <td>439</td>\n",
       "    </tr>\n",
       "    <tr>\n",
       "      <th>87</th>\n",
       "      <td>William Griffin</td>\n",
       "      <td>2022-08-09</td>\n",
       "      <td>Phone</td>\n",
       "      <td>1427</td>\n",
       "    </tr>\n",
       "    <tr>\n",
       "      <th>89</th>\n",
       "      <td>Marie Morrow</td>\n",
       "      <td>2022-08-09</td>\n",
       "      <td>Phone</td>\n",
       "      <td>1194</td>\n",
       "    </tr>\n",
       "    <tr>\n",
       "      <th>95</th>\n",
       "      <td>Alyssa Wilkins</td>\n",
       "      <td>2022-08-09</td>\n",
       "      <td>Phone</td>\n",
       "      <td>523</td>\n",
       "    </tr>\n",
       "    <tr>\n",
       "      <th>96</th>\n",
       "      <td>Kevin Mullen</td>\n",
       "      <td>2022-08-09</td>\n",
       "      <td>Phone</td>\n",
       "      <td>998</td>\n",
       "    </tr>\n",
       "  </tbody>\n",
       "</table>\n",
       "</div>"
      ],
      "text/plain": [
       "              client purchase_date product  price\n",
       "2   Michael Galloway    2022-08-09   Phone   1042\n",
       "4       Ricky Romero    2022-08-09   Phone    424\n",
       "6          Tara King    2022-08-09   Phone   1062\n",
       "9     Kristen Walter    2022-08-09   Phone    721\n",
       "10      William Hays    2022-08-09   Phone    273\n",
       "15   Alicia Morrison    2022-08-09   Phone    651\n",
       "18   Sally Rodriguez    2022-08-09   Phone   1470\n",
       "20       Kathy Brown    2022-08-09   Phone    206\n",
       "23     Ashley Hunter    2022-08-09   Phone    195\n",
       "25    Austin Vasquez    2022-08-09   Phone    299\n",
       "28         Mary Wong    2022-08-09   Phone   1324\n",
       "31      Derek Curtis    2022-08-09   Phone    173\n",
       "32   Autumn Thompson    2022-08-09   Phone   1300\n",
       "38       Brett Bowen    2022-08-09   Phone    340\n",
       "43    Michelle Moore    2022-08-09   Phone   1425\n",
       "45        Brian Bell    2022-08-09   Phone    865\n",
       "68    Keith Williams    2022-08-09   Phone    367\n",
       "70    Melissa Graham    2022-08-09   Phone   1220\n",
       "71        Amy Watson    2022-08-09   Phone   1434\n",
       "86    Patricia Reyes    2022-08-09   Phone    439\n",
       "87   William Griffin    2022-08-09   Phone   1427\n",
       "89      Marie Morrow    2022-08-09   Phone   1194\n",
       "95    Alyssa Wilkins    2022-08-09   Phone    523\n",
       "96      Kevin Mullen    2022-08-09   Phone    998"
      ]
     },
     "execution_count": 96,
     "metadata": {},
     "output_type": "execute_result"
    }
   ],
   "source": [
    "phone = df[df['product'] == 'Phone']\n",
    "phone"
   ]
  },
  {
   "cell_type": "code",
   "execution_count": 97,
   "id": "c31d9e09",
   "metadata": {
    "ExecuteTime": {
     "end_time": "2023-06-01T16:05:27.130988Z",
     "start_time": "2023-06-01T16:05:26.954803Z"
    }
   },
   "outputs": [],
   "source": [
    "phone.to_csv('./phones.csv')"
   ]
  },
  {
   "cell_type": "code",
   "execution_count": 98,
   "id": "db93ed7c",
   "metadata": {},
   "outputs": [
    {
     "data": {
      "text/plain": [
       "5"
      ]
     },
     "execution_count": 98,
     "metadata": {},
     "output_type": "execute_result"
    }
   ],
   "source": [
    "2+3"
   ]
  },
  {
   "cell_type": "code",
   "execution_count": null,
   "id": "4f36fd13",
   "metadata": {},
   "outputs": [],
   "source": []
  }
 ],
 "metadata": {
  "kernelspec": {
   "display_name": "Python 3 (ipykernel)",
   "language": "python",
   "name": "python3"
  },
  "language_info": {
   "codemirror_mode": {
    "name": "ipython",
    "version": 3
   },
   "file_extension": ".py",
   "mimetype": "text/x-python",
   "name": "python",
   "nbconvert_exporter": "python",
   "pygments_lexer": "ipython3",
   "version": "3.9.16"
  }
 },
 "nbformat": 4,
 "nbformat_minor": 5
}
