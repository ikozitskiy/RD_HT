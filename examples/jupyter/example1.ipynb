{
 "cells": [
  {
   "cell_type": "code",
   "execution_count": 1,
   "id": "7ad5be57-0678-43c4-8f8e-277ed0f074da",
   "metadata": {},
   "outputs": [
    {
     "name": "stdout",
     "output_type": "stream",
     "text": [
      "The Zen of Python, by Tim Peters\n",
      "\n",
      "Beautiful is better than ugly.\n",
      "Explicit is better than implicit.\n",
      "Simple is better than complex.\n",
      "Complex is better than complicated.\n",
      "Flat is better than nested.\n",
      "Sparse is better than dense.\n",
      "Readability counts.\n",
      "Special cases aren't special enough to break the rules.\n",
      "Although practicality beats purity.\n",
      "Errors should never pass silently.\n",
      "Unless explicitly silenced.\n",
      "In the face of ambiguity, refuse the temptation to guess.\n",
      "There should be one-- and preferably only one --obvious way to do it.\n",
      "Although that way may not be obvious at first unless you're Dutch.\n",
      "Now is better than never.\n",
      "Although never is often better than *right* now.\n",
      "If the implementation is hard to explain, it's a bad idea.\n",
      "If the implementation is easy to explain, it may be a good idea.\n",
      "Namespaces are one honking great idea -- let's do more of those!\n"
     ]
    }
   ],
   "source": [
    "import this"
   ]
  },
  {
   "cell_type": "code",
   "execution_count": 2,
   "id": "8a0759c8-5150-46e1-9b93-1c97604a6b50",
   "metadata": {},
   "outputs": [
    {
     "data": {
      "text/plain": [
       "4"
      ]
     },
     "execution_count": 2,
     "metadata": {},
     "output_type": "execute_result"
    }
   ],
   "source": [
    "2 + 2"
   ]
  },
  {
   "cell_type": "code",
   "execution_count": 2,
   "id": "d4bb4da8-0942-4443-9faf-99ecfa958a4a",
   "metadata": {},
   "outputs": [],
   "source": [
    "import pandas as pd"
   ]
  },
  {
   "cell_type": "code",
   "execution_count": 3,
   "id": "f3d873f7-4b36-4a0c-ba89-5f9ea71a6819",
   "metadata": {},
   "outputs": [],
   "source": [
    "df = pd.read_csv(\"./data/sales.csv\")"
   ]
  },
  {
   "cell_type": "code",
   "execution_count": 4,
   "id": "9c57d547-9411-47e8-9a04-9e753758018d",
   "metadata": {},
   "outputs": [
    {
     "data": {
      "text/plain": "                client purchase_date         product  price\n0         Norma Fisher     2022-08-9  Vacuum cleaner    121\n1         Norma Fisher    2022-08-13  Microwave oven    348\n2         Norma Fisher    2022-08-12           Phone   1126\n3       Jorge Sullivan    2022-08-10  Microwave oven    171\n4      Elizabeth Woods    2022-08-26              TV   1766\n...                ...           ...             ...    ...\n14009       Jay Jacobs    2022-08-27  coffee machine    866\n14010      Jacob Mckay    2022-08-27  Vacuum cleaner    423\n14011      Susan Duran    2022-08-11  coffee machine   4476\n14012      Susan Duran    2022-08-13          Laptop   2377\n14013      Susan Duran    2022-08-23              TV   1892\n\n[14014 rows x 4 columns]",
      "text/html": "<div>\n<style scoped>\n    .dataframe tbody tr th:only-of-type {\n        vertical-align: middle;\n    }\n\n    .dataframe tbody tr th {\n        vertical-align: top;\n    }\n\n    .dataframe thead th {\n        text-align: right;\n    }\n</style>\n<table border=\"1\" class=\"dataframe\">\n  <thead>\n    <tr style=\"text-align: right;\">\n      <th></th>\n      <th>client</th>\n      <th>purchase_date</th>\n      <th>product</th>\n      <th>price</th>\n    </tr>\n  </thead>\n  <tbody>\n    <tr>\n      <th>0</th>\n      <td>Norma Fisher</td>\n      <td>2022-08-9</td>\n      <td>Vacuum cleaner</td>\n      <td>121</td>\n    </tr>\n    <tr>\n      <th>1</th>\n      <td>Norma Fisher</td>\n      <td>2022-08-13</td>\n      <td>Microwave oven</td>\n      <td>348</td>\n    </tr>\n    <tr>\n      <th>2</th>\n      <td>Norma Fisher</td>\n      <td>2022-08-12</td>\n      <td>Phone</td>\n      <td>1126</td>\n    </tr>\n    <tr>\n      <th>3</th>\n      <td>Jorge Sullivan</td>\n      <td>2022-08-10</td>\n      <td>Microwave oven</td>\n      <td>171</td>\n    </tr>\n    <tr>\n      <th>4</th>\n      <td>Elizabeth Woods</td>\n      <td>2022-08-26</td>\n      <td>TV</td>\n      <td>1766</td>\n    </tr>\n    <tr>\n      <th>...</th>\n      <td>...</td>\n      <td>...</td>\n      <td>...</td>\n      <td>...</td>\n    </tr>\n    <tr>\n      <th>14009</th>\n      <td>Jay Jacobs</td>\n      <td>2022-08-27</td>\n      <td>coffee machine</td>\n      <td>866</td>\n    </tr>\n    <tr>\n      <th>14010</th>\n      <td>Jacob Mckay</td>\n      <td>2022-08-27</td>\n      <td>Vacuum cleaner</td>\n      <td>423</td>\n    </tr>\n    <tr>\n      <th>14011</th>\n      <td>Susan Duran</td>\n      <td>2022-08-11</td>\n      <td>coffee machine</td>\n      <td>4476</td>\n    </tr>\n    <tr>\n      <th>14012</th>\n      <td>Susan Duran</td>\n      <td>2022-08-13</td>\n      <td>Laptop</td>\n      <td>2377</td>\n    </tr>\n    <tr>\n      <th>14013</th>\n      <td>Susan Duran</td>\n      <td>2022-08-23</td>\n      <td>TV</td>\n      <td>1892</td>\n    </tr>\n  </tbody>\n</table>\n<p>14014 rows × 4 columns</p>\n</div>"
     },
     "execution_count": 4,
     "metadata": {},
     "output_type": "execute_result"
    }
   ],
   "source": [
    "df"
   ]
  },
  {
   "cell_type": "code",
   "execution_count": 5,
   "id": "dd2308a0-9885-46e5-9c5e-0b87054112f6",
   "metadata": {},
   "outputs": [
    {
     "data": {
      "text/plain": "            client purchase_date         product  price\n0     Norma Fisher     2022-08-9  Vacuum cleaner    121\n1     Norma Fisher    2022-08-13  Microwave oven    348\n2     Norma Fisher    2022-08-12           Phone   1126\n3   Jorge Sullivan    2022-08-10  Microwave oven    171\n4  Elizabeth Woods    2022-08-26              TV   1766",
      "text/html": "<div>\n<style scoped>\n    .dataframe tbody tr th:only-of-type {\n        vertical-align: middle;\n    }\n\n    .dataframe tbody tr th {\n        vertical-align: top;\n    }\n\n    .dataframe thead th {\n        text-align: right;\n    }\n</style>\n<table border=\"1\" class=\"dataframe\">\n  <thead>\n    <tr style=\"text-align: right;\">\n      <th></th>\n      <th>client</th>\n      <th>purchase_date</th>\n      <th>product</th>\n      <th>price</th>\n    </tr>\n  </thead>\n  <tbody>\n    <tr>\n      <th>0</th>\n      <td>Norma Fisher</td>\n      <td>2022-08-9</td>\n      <td>Vacuum cleaner</td>\n      <td>121</td>\n    </tr>\n    <tr>\n      <th>1</th>\n      <td>Norma Fisher</td>\n      <td>2022-08-13</td>\n      <td>Microwave oven</td>\n      <td>348</td>\n    </tr>\n    <tr>\n      <th>2</th>\n      <td>Norma Fisher</td>\n      <td>2022-08-12</td>\n      <td>Phone</td>\n      <td>1126</td>\n    </tr>\n    <tr>\n      <th>3</th>\n      <td>Jorge Sullivan</td>\n      <td>2022-08-10</td>\n      <td>Microwave oven</td>\n      <td>171</td>\n    </tr>\n    <tr>\n      <th>4</th>\n      <td>Elizabeth Woods</td>\n      <td>2022-08-26</td>\n      <td>TV</td>\n      <td>1766</td>\n    </tr>\n  </tbody>\n</table>\n</div>"
     },
     "execution_count": 5,
     "metadata": {},
     "output_type": "execute_result"
    }
   ],
   "source": [
    "df.head(5)"
   ]
  },
  {
   "cell_type": "code",
   "execution_count": null,
   "outputs": [],
   "source": [],
   "metadata": {
    "collapsed": false
   }
  }
 ],
 "metadata": {
  "kernelspec": {
   "display_name": "Python 3 (ipykernel)",
   "language": "python",
   "name": "python3"
  },
  "language_info": {
   "codemirror_mode": {
    "name": "ipython",
    "version": 3
   },
   "file_extension": ".py",
   "mimetype": "text/x-python",
   "name": "python",
   "nbconvert_exporter": "python",
   "pygments_lexer": "ipython3",
   "version": "3.9.13"
  }
 },
 "nbformat": 4,
 "nbformat_minor": 5
}
